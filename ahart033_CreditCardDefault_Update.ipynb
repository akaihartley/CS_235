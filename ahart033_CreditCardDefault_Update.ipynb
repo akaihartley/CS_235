{
 "cells": [
  {
   "cell_type": "markdown",
   "metadata": {},
   "source": [
    "## **Imports**"
   ]
  },
  {
   "cell_type": "code",
   "execution_count": 1,
   "metadata": {},
   "outputs": [],
   "source": [
    "import pandas as pd\n",
    "import numpy as np\n",
    "from sklearn.model_selection import train_test_split\n",
    "from sklearn.svm import SVC\n",
    "from sklearn.metrics import accuracy_score, classification_report\n",
    "from sklearn.model_selection import GridSearchCV"
   ]
  },
  {
   "cell_type": "code",
   "execution_count": 2,
   "metadata": {},
   "outputs": [
    {
     "data": {
      "text/plain": [
       "((22413, 15), (5604, 15), (22413, 1), (5604, 1))"
      ]
     },
     "execution_count": 2,
     "metadata": {},
     "output_type": "execute_result"
    }
   ],
   "source": [
    "X_train_pca = pd.read_csv('X_train_pca.csv')\n",
    "X_test_pca = pd.read_csv('X_test_pca.csv')\n",
    "y_train = pd.read_csv('y_train.csv')\n",
    "y_test = pd.read_csv('y_test.csv')\n",
    "X_train_pca.shape, X_test_pca.shape, y_train.shape, y_test.shape"
   ]
  },
  {
   "cell_type": "code",
   "execution_count": 3,
   "metadata": {},
   "outputs": [],
   "source": [
    "y_train = y_train.values.ravel()\n",
    "y_test = y_test.values.ravel()"
   ]
  },
  {
   "cell_type": "code",
   "execution_count": 4,
   "metadata": {},
   "outputs": [
    {
     "name": "stdout",
     "output_type": "stream",
     "text": [
      "              precision    recall  f1-score   support\n",
      "\n",
      "           0       0.84      0.95      0.89      4341\n",
      "           1       0.68      0.36      0.47      1263\n",
      "\n",
      "    accuracy                           0.82      5604\n",
      "   macro avg       0.76      0.66      0.68      5604\n",
      "weighted avg       0.80      0.82      0.80      5604\n",
      "\n",
      "Default sklearn SVC Accuracy: 0.8179871520342612\n"
     ]
    }
   ],
   "source": [
    "svc_default = SVC()\n",
    "svc_default.fit(X_train_pca, y_train)\n",
    "y_pred_default = svc_default.predict(X_test_pca)\n",
    "print(classification_report(y_test, y_pred_default))\n",
    "print(\"Default sklearn SVC Accuracy:\", accuracy_score(y_test, y_pred_default))"
   ]
  },
  {
   "cell_type": "code",
   "execution_count": 5,
   "metadata": {},
   "outputs": [
    {
     "data": {
      "text/plain": [
       "((4482, 15), (4482,))"
      ]
     },
     "execution_count": 5,
     "metadata": {},
     "output_type": "execute_result"
    }
   ],
   "source": [
    "X_sample, _, y_sample, _ = train_test_split(X_train_pca, y_train, test_size=0.8, stratify=y_train, random_state=1)\n",
    "X_sample.shape, y_sample.shape"
   ]
  },
  {
   "cell_type": "code",
   "execution_count": 6,
   "metadata": {},
   "outputs": [
    {
     "name": "stdout",
     "output_type": "stream",
     "text": [
      "Training with linear kernel\n",
      "Training with rbf kernel\n",
      "Training with poly kernel\n",
      "Training with sigmoid kernel\n",
      "Best Parameters for sigmoid kernel: {'C': 1, 'class_weight': None, 'degree': 3, 'gamma': 0.01, 'kernel': 'sigmoid'}\n",
      "Classification Report for sigmoid kernel:\n",
      "               precision    recall  f1-score   support\n",
      "\n",
      "           0       0.84      0.93      0.88      4341\n",
      "           1       0.60      0.37      0.46      1263\n",
      "\n",
      "    accuracy                           0.80      5604\n",
      "   macro avg       0.72      0.65      0.67      5604\n",
      "weighted avg       0.78      0.80      0.78      5604\n",
      "\n"
     ]
    }
   ],
   "source": [
    "# Define kernel types to train\n",
    "kernel_types = ['linear', 'rbf', 'poly', 'sigmoid']\n",
    "\n",
    "for kernel in kernel_types:\n",
    "    print(f\"Training with {kernel} kernel\")\n",
    "\n",
    "    # Define the hyperparameter grid for the current kernel\n",
    "    param_grid = {\n",
    "        'C': [0.1, 1, 10, 100],\n",
    "        'kernel': [kernel],\n",
    "        'gamma': [0.01, 0.1, 1, 'scale', 'auto'] if kernel != 'linear' else ['scale'],\n",
    "        'degree': [2, 3, 5] if kernel == 'poly' else [3],\n",
    "        'class_weight': ['balanced', None]\n",
    "    }\n",
    "\n",
    "svc = SVC()\n",
    "grid_search = GridSearchCV(svc, param_grid, cv=3, n_jobs=-1, scoring='accuracy')\n",
    "\n",
    "grid_search.fit(X_sample, y_sample)\n",
    "\n",
    "best_params = grid_search.best_params_\n",
    "best_model = grid_search.best_estimator_\n",
    "\n",
    "y_pred = best_model.predict(X_test_pca)\n",
    "\n",
    "# Print Best Parameters and Model Performance\n",
    "print(f\"Best Parameters for {kernel} kernel:\", grid_search.best_params_)\n",
    "print(f\"Classification Report for {kernel} kernel:\\n\", classification_report(y_test, y_pred))"
   ]
  },
  {
   "cell_type": "code",
   "execution_count": 7,
   "metadata": {},
   "outputs": [
    {
     "name": "stdout",
     "output_type": "stream",
     "text": [
      "Best Hyperparameters: {'C': 1, 'class_weight': None, 'gamma': 0.01, 'kernel': 'linear'}\n",
      "Accuracy with Best Hyperparameters: 0.8081727337615988\n",
      "              precision    recall  f1-score   support\n",
      "\n",
      "           0       0.82      0.96      0.89      4341\n",
      "           1       0.69      0.28      0.39      1263\n",
      "\n",
      "    accuracy                           0.81      5604\n",
      "   macro avg       0.75      0.62      0.64      5604\n",
      "weighted avg       0.79      0.81      0.77      5604\n",
      "\n"
     ]
    }
   ],
   "source": [
    "param_grid = {\n",
    "    'C': [0.01, 0.1, 1, 10, 25],\n",
    "    'kernel': ['linear'],\n",
    "    'gamma': [0.01, 0.1, 1, 'scale', 'auto'],\n",
    "    'class_weight': ['balanced', None]\n",
    "}\n",
    "\n",
    "grid_search = GridSearchCV(svc, param_grid, cv=3, n_jobs=-1, scoring='accuracy')\n",
    "\n",
    "grid_search.fit(X_sample, y_sample)\n",
    "\n",
    "best_params = grid_search.best_params_\n",
    "best_model = grid_search.best_estimator_\n",
    "\n",
    "y_pred = best_model.predict(X_test_pca)\n",
    "\n",
    "accuracy = accuracy_score(y_test, y_pred)\n",
    "print(\"Best Hyperparameters:\", best_params)\n",
    "print(\"Accuracy with Best Hyperparameters:\", accuracy)\n",
    "print(classification_report(y_test, y_pred))"
   ]
  }
 ],
 "metadata": {
  "kernelspec": {
   "display_name": "Python 3",
   "language": "python",
   "name": "python3"
  },
  "language_info": {
   "codemirror_mode": {
    "name": "ipython",
    "version": 3
   },
   "file_extension": ".py",
   "mimetype": "text/x-python",
   "name": "python",
   "nbconvert_exporter": "python",
   "pygments_lexer": "ipython3",
   "version": "3.11.6"
  }
 },
 "nbformat": 4,
 "nbformat_minor": 2
}
