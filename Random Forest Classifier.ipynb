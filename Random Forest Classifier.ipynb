{
 "cells": [
  {
   "cell_type": "code",
   "execution_count": 1,
   "id": "cfe94417",
   "metadata": {},
   "outputs": [],
   "source": [
    "#import the big 3\n",
    "import pandas as pd\n",
    "import numpy as np\n",
    "import matplotlib.pyplot as plt\n"
   ]
  },
  {
   "cell_type": "code",
   "execution_count": 25,
   "id": "5243f603",
   "metadata": {},
   "outputs": [],
   "source": [
    "# load in preprocessed data\n",
    "X_train_pca = pd.read_csv('X_train_pca.csv')\n",
    "X_test_pca = pd.read_csv('X_test_pca.csv')\n",
    "y_train = pd.read_csv('y_train.csv')\n",
    "y_test = pd.read_csv('y_test.csv')"
   ]
  },
  {
   "cell_type": "code",
   "execution_count": 26,
   "id": "bde196ff",
   "metadata": {},
   "outputs": [
    {
     "data": {
      "text/plain": [
       "((24000, 15), (6000, 15), (24000, 1), (6000, 1))"
      ]
     },
     "execution_count": 26,
     "metadata": {},
     "output_type": "execute_result"
    }
   ],
   "source": [
    "#verify shape\n",
    "X_train_pca.shape, X_test_pca.shape, y_train.shape, y_test.shape"
   ]
  },
  {
   "cell_type": "code",
   "execution_count": 27,
   "id": "13e67560",
   "metadata": {},
   "outputs": [
    {
     "data": {
      "text/html": [
       "<div>\n",
       "<style scoped>\n",
       "    .dataframe tbody tr th:only-of-type {\n",
       "        vertical-align: middle;\n",
       "    }\n",
       "\n",
       "    .dataframe tbody tr th {\n",
       "        vertical-align: top;\n",
       "    }\n",
       "\n",
       "    .dataframe thead th {\n",
       "        text-align: right;\n",
       "    }\n",
       "</style>\n",
       "<table border=\"1\" class=\"dataframe\">\n",
       "  <thead>\n",
       "    <tr style=\"text-align: right;\">\n",
       "      <th></th>\n",
       "      <th>default payment next month</th>\n",
       "    </tr>\n",
       "  </thead>\n",
       "  <tbody>\n",
       "    <tr>\n",
       "      <th>0</th>\n",
       "      <td>0</td>\n",
       "    </tr>\n",
       "    <tr>\n",
       "      <th>1</th>\n",
       "      <td>1</td>\n",
       "    </tr>\n",
       "    <tr>\n",
       "      <th>2</th>\n",
       "      <td>1</td>\n",
       "    </tr>\n",
       "    <tr>\n",
       "      <th>3</th>\n",
       "      <td>0</td>\n",
       "    </tr>\n",
       "    <tr>\n",
       "      <th>4</th>\n",
       "      <td>1</td>\n",
       "    </tr>\n",
       "    <tr>\n",
       "      <th>...</th>\n",
       "      <td>...</td>\n",
       "    </tr>\n",
       "    <tr>\n",
       "      <th>23995</th>\n",
       "      <td>1</td>\n",
       "    </tr>\n",
       "    <tr>\n",
       "      <th>23996</th>\n",
       "      <td>0</td>\n",
       "    </tr>\n",
       "    <tr>\n",
       "      <th>23997</th>\n",
       "      <td>1</td>\n",
       "    </tr>\n",
       "    <tr>\n",
       "      <th>23998</th>\n",
       "      <td>0</td>\n",
       "    </tr>\n",
       "    <tr>\n",
       "      <th>23999</th>\n",
       "      <td>0</td>\n",
       "    </tr>\n",
       "  </tbody>\n",
       "</table>\n",
       "<p>24000 rows × 1 columns</p>\n",
       "</div>"
      ],
      "text/plain": [
       "       default payment next month\n",
       "0                               0\n",
       "1                               1\n",
       "2                               1\n",
       "3                               0\n",
       "4                               1\n",
       "...                           ...\n",
       "23995                           1\n",
       "23996                           0\n",
       "23997                           1\n",
       "23998                           0\n",
       "23999                           0\n",
       "\n",
       "[24000 rows x 1 columns]"
      ]
     },
     "execution_count": 27,
     "metadata": {},
     "output_type": "execute_result"
    }
   ],
   "source": [
    "y_train"
   ]
  },
  {
   "cell_type": "code",
   "execution_count": 28,
   "id": "ef0d24b4",
   "metadata": {},
   "outputs": [
    {
     "data": {
      "text/plain": [
       "array([0, 0, 1, ..., 0, 1, 0], dtype=int64)"
      ]
     },
     "execution_count": 28,
     "metadata": {},
     "output_type": "execute_result"
    }
   ],
   "source": [
    "#make 1d\n",
    "y_train = y_train.values.ravel()\n",
    "y_test = y_test.values.ravel()\n",
    "y_test"
   ]
  },
  {
   "cell_type": "code",
   "execution_count": 29,
   "id": "2db1d248",
   "metadata": {},
   "outputs": [
    {
     "name": "stdout",
     "output_type": "stream",
     "text": [
      "              precision    recall  f1-score   support\n",
      "\n",
      "           0       0.84      0.94      0.89      4673\n",
      "           1       0.65      0.37      0.47      1327\n",
      "\n",
      "    accuracy                           0.82      6000\n",
      "   macro avg       0.74      0.66      0.68      6000\n",
      "weighted avg       0.80      0.82      0.80      6000\n",
      "\n",
      "Default Random Forest Accuracy: 0.816\n"
     ]
    }
   ],
   "source": [
    "from sklearn.ensemble import RandomForestClassifier\n",
    "from sklearn.metrics import classification_report, accuracy_score\n",
    "\n",
    "# default model\n",
    "rf_default = RandomForestClassifier(random_state=42)\n",
    "rf_default.fit(X_train_pca, y_train)\n",
    "y_pred_default = rf_default.predict(X_test_pca)\n",
    "print(classification_report(y_test, y_pred_default))\n",
    "print(\"Default Random Forest Accuracy:\", accuracy_score(y_test, y_pred_default))"
   ]
  },
  {
   "cell_type": "code",
   "execution_count": 41,
   "id": "049fe518",
   "metadata": {},
   "outputs": [],
   "source": [
    "#going to sample the data to do a comprehensive search with much smaller size to reduce computation time\n",
    "from sklearn.model_selection import train_test_split\n",
    "\n",
    "\n",
    "X_sample, _, y_sample, _ = train_test_split( X_train_pca, y_train, stratify=y_train, test_size=0.8, random_state=42)"
   ]
  },
  {
   "cell_type": "code",
   "execution_count": 42,
   "id": "a6b3d6df",
   "metadata": {},
   "outputs": [
    {
     "data": {
      "text/plain": [
       "((4800, 15), (4800,))"
      ]
     },
     "execution_count": 42,
     "metadata": {},
     "output_type": "execute_result"
    }
   ],
   "source": [
    "X_sample.shape, y_sample.shape #will make much faster for grid search."
   ]
  },
  {
   "cell_type": "code",
   "execution_count": 43,
   "id": "ff197e25",
   "metadata": {},
   "outputs": [
    {
     "name": "stdout",
     "output_type": "stream",
     "text": [
      "Fitting 3 folds for each of 648 candidates, totalling 1944 fits\n"
     ]
    },
    {
     "name": "stderr",
     "output_type": "stream",
     "text": [
      "C:\\Users\\oconn\\anaconda3\\lib\\site-packages\\sklearn\\model_selection\\_validation.py:425: FitFailedWarning: \n",
      "648 fits failed out of a total of 1944.\n",
      "The score on these train-test partitions for these parameters will be set to nan.\n",
      "If these failures are not expected, you can try to debug them by setting error_score='raise'.\n",
      "\n",
      "Below are more details about the failures:\n",
      "--------------------------------------------------------------------------------\n",
      "170 fits failed with the following error:\n",
      "Traceback (most recent call last):\n",
      "  File \"C:\\Users\\oconn\\anaconda3\\lib\\site-packages\\sklearn\\model_selection\\_validation.py\", line 732, in _fit_and_score\n",
      "    estimator.fit(X_train, y_train, **fit_params)\n",
      "  File \"C:\\Users\\oconn\\anaconda3\\lib\\site-packages\\sklearn\\base.py\", line 1144, in wrapper\n",
      "    estimator._validate_params()\n",
      "  File \"C:\\Users\\oconn\\anaconda3\\lib\\site-packages\\sklearn\\base.py\", line 637, in _validate_params\n",
      "    validate_parameter_constraints(\n",
      "  File \"C:\\Users\\oconn\\anaconda3\\lib\\site-packages\\sklearn\\utils\\_param_validation.py\", line 95, in validate_parameter_constraints\n",
      "    raise InvalidParameterError(\n",
      "sklearn.utils._param_validation.InvalidParameterError: The 'max_features' parameter of RandomForestClassifier must be an int in the range [1, inf), a float in the range (0.0, 1.0], a str among {'sqrt', 'log2'} or None. Got 'auto' instead.\n",
      "\n",
      "--------------------------------------------------------------------------------\n",
      "478 fits failed with the following error:\n",
      "Traceback (most recent call last):\n",
      "  File \"C:\\Users\\oconn\\anaconda3\\lib\\site-packages\\sklearn\\model_selection\\_validation.py\", line 732, in _fit_and_score\n",
      "    estimator.fit(X_train, y_train, **fit_params)\n",
      "  File \"C:\\Users\\oconn\\anaconda3\\lib\\site-packages\\sklearn\\base.py\", line 1144, in wrapper\n",
      "    estimator._validate_params()\n",
      "  File \"C:\\Users\\oconn\\anaconda3\\lib\\site-packages\\sklearn\\base.py\", line 637, in _validate_params\n",
      "    validate_parameter_constraints(\n",
      "  File \"C:\\Users\\oconn\\anaconda3\\lib\\site-packages\\sklearn\\utils\\_param_validation.py\", line 95, in validate_parameter_constraints\n",
      "    raise InvalidParameterError(\n",
      "sklearn.utils._param_validation.InvalidParameterError: The 'max_features' parameter of RandomForestClassifier must be an int in the range [1, inf), a float in the range (0.0, 1.0], a str among {'log2', 'sqrt'} or None. Got 'auto' instead.\n",
      "\n",
      "  warnings.warn(some_fits_failed_message, FitFailedWarning)\n",
      "C:\\Users\\oconn\\anaconda3\\lib\\site-packages\\sklearn\\model_selection\\_search.py:976: UserWarning: One or more of the test scores are non-finite: [       nan        nan        nan        nan        nan        nan\n",
      "        nan        nan        nan        nan        nan        nan\n",
      "        nan        nan        nan        nan        nan        nan\n",
      "        nan        nan        nan        nan        nan        nan\n",
      "        nan        nan        nan 0.80645833 0.80645833 0.80604167\n",
      " 0.80708333 0.80645833 0.80625    0.80729167 0.80708333 0.805\n",
      " 0.80625    0.80645833 0.80520833 0.8075     0.80541667 0.80645833\n",
      " 0.80666667 0.80625    0.80479167 0.80583333 0.80645833 0.80541667\n",
      " 0.80583333 0.80645833 0.80541667 0.80604167 0.80625    0.805625\n",
      " 0.80645833 0.80645833 0.80604167 0.80708333 0.80645833 0.80625\n",
      " 0.80729167 0.80708333 0.805      0.80625    0.80645833 0.80520833\n",
      " 0.8075     0.80541667 0.80645833 0.80666667 0.80625    0.80479167\n",
      " 0.80583333 0.80645833 0.80541667 0.80583333 0.80645833 0.80541667\n",
      " 0.80604167 0.80625    0.805625          nan        nan        nan\n",
      "        nan        nan        nan        nan        nan        nan\n",
      "        nan        nan        nan        nan        nan        nan\n",
      "        nan        nan        nan        nan        nan        nan\n",
      "        nan        nan        nan        nan        nan        nan\n",
      " 0.81166667 0.81125    0.81125    0.81583333 0.81145833 0.81125\n",
      " 0.81333333 0.81041667 0.81125    0.81375    0.81291667 0.81208333\n",
      " 0.81395833 0.81229167 0.81166667 0.81083333 0.81041667 0.81083333\n",
      " 0.813125   0.81041667 0.81125    0.813125   0.81041667 0.81125\n",
      " 0.81083333 0.80958333 0.81041667 0.81166667 0.81125    0.81125\n",
      " 0.81583333 0.81145833 0.81125    0.81333333 0.81041667 0.81125\n",
      " 0.81375    0.81291667 0.81208333 0.81395833 0.81229167 0.81166667\n",
      " 0.81083333 0.81041667 0.81083333 0.813125   0.81041667 0.81125\n",
      " 0.813125   0.81041667 0.81125    0.81083333 0.80958333 0.81041667\n",
      "        nan        nan        nan        nan        nan        nan\n",
      "        nan        nan        nan        nan        nan        nan\n",
      "        nan        nan        nan        nan        nan        nan\n",
      "        nan        nan        nan        nan        nan        nan\n",
      "        nan        nan        nan 0.81166667 0.810625   0.81145833\n",
      " 0.815625   0.814375   0.81375    0.81270833 0.81229167 0.81166667\n",
      " 0.81270833 0.8125     0.813125   0.81416667 0.815      0.81270833\n",
      " 0.81416667 0.81354167 0.814375   0.81395833 0.814375   0.81229167\n",
      " 0.81395833 0.814375   0.81229167 0.815625   0.81479167 0.81479167\n",
      " 0.81166667 0.810625   0.81145833 0.815625   0.814375   0.81375\n",
      " 0.81270833 0.81229167 0.81166667 0.81270833 0.8125     0.813125\n",
      " 0.81416667 0.815      0.81270833 0.81416667 0.81354167 0.814375\n",
      " 0.81395833 0.814375   0.81229167 0.81395833 0.814375   0.81229167\n",
      " 0.815625   0.81479167 0.81479167        nan        nan        nan\n",
      "        nan        nan        nan        nan        nan        nan\n",
      "        nan        nan        nan        nan        nan        nan\n",
      "        nan        nan        nan        nan        nan        nan\n",
      "        nan        nan        nan        nan        nan        nan\n",
      " 0.811875   0.81333333 0.81333333 0.8125     0.81395833 0.815\n",
      " 0.81270833 0.8125     0.81333333 0.81145833 0.81270833 0.81416667\n",
      " 0.81416667 0.813125   0.81354167 0.81458333 0.81479167 0.81458333\n",
      " 0.81354167 0.81395833 0.81354167 0.81354167 0.81395833 0.81354167\n",
      " 0.8125     0.81083333 0.81125    0.811875   0.81333333 0.81333333\n",
      " 0.8125     0.81395833 0.815      0.81270833 0.8125     0.81333333\n",
      " 0.81145833 0.81270833 0.81416667 0.81416667 0.813125   0.81354167\n",
      " 0.81458333 0.81479167 0.81458333 0.81354167 0.81395833 0.81354167\n",
      " 0.81354167 0.81395833 0.81354167 0.8125     0.81083333 0.81125\n",
      "        nan        nan        nan        nan        nan        nan\n",
      "        nan        nan        nan        nan        nan        nan\n",
      "        nan        nan        nan        nan        nan        nan\n",
      "        nan        nan        nan        nan        nan        nan\n",
      "        nan        nan        nan 0.80604167 0.80416667 0.805\n",
      " 0.80541667 0.80458333 0.80479167 0.806875   0.80458333 0.805\n",
      " 0.80583333 0.80354167 0.805      0.80625    0.80395833 0.804375\n",
      " 0.80708333 0.80395833 0.80520833 0.80625    0.80520833 0.805625\n",
      " 0.80625    0.80520833 0.805625   0.80645833 0.80416667 0.805625\n",
      " 0.80604167 0.80416667 0.805      0.80541667 0.80458333 0.80479167\n",
      " 0.806875   0.80458333 0.805      0.80583333 0.80354167 0.805\n",
      " 0.80625    0.80395833 0.804375   0.80708333 0.80395833 0.80520833\n",
      " 0.80625    0.80520833 0.805625   0.80625    0.80520833 0.805625\n",
      " 0.80645833 0.80416667 0.805625          nan        nan        nan\n",
      "        nan        nan        nan        nan        nan        nan\n",
      "        nan        nan        nan        nan        nan        nan\n",
      "        nan        nan        nan        nan        nan        nan\n",
      "        nan        nan        nan        nan        nan        nan\n",
      " 0.81083333 0.81020833 0.81229167 0.81125    0.81166667 0.81208333\n",
      " 0.81145833 0.81125    0.814375   0.810625   0.81125    0.81104167\n",
      " 0.81083333 0.81083333 0.81104167 0.81208333 0.81125    0.8125\n",
      " 0.81125    0.81       0.81291667 0.81125    0.81       0.81291667\n",
      " 0.81229167 0.81       0.81166667 0.81083333 0.81020833 0.81229167\n",
      " 0.81125    0.81166667 0.81208333 0.81145833 0.81125    0.814375\n",
      " 0.810625   0.81125    0.81104167 0.81083333 0.81083333 0.81104167\n",
      " 0.81208333 0.81125    0.8125     0.81125    0.81       0.81291667\n",
      " 0.81125    0.81       0.81291667 0.81229167 0.81       0.81166667\n",
      "        nan        nan        nan        nan        nan        nan\n",
      "        nan        nan        nan        nan        nan        nan\n",
      "        nan        nan        nan        nan        nan        nan\n",
      "        nan        nan        nan        nan        nan        nan\n",
      "        nan        nan        nan 0.811875   0.81270833 0.815625\n",
      " 0.81416667 0.81270833 0.81416667 0.81520833 0.81458333 0.81416667\n",
      " 0.81291667 0.81375    0.81416667 0.81208333 0.81395833 0.81291667\n",
      " 0.81291667 0.81416667 0.81520833 0.81270833 0.813125   0.81354167\n",
      " 0.81270833 0.813125   0.81354167 0.81229167 0.81354167 0.81291667\n",
      " 0.811875   0.81270833 0.815625   0.81416667 0.81270833 0.81416667\n",
      " 0.81520833 0.81458333 0.81416667 0.81291667 0.81375    0.81416667\n",
      " 0.81208333 0.81395833 0.81291667 0.81291667 0.81416667 0.81520833\n",
      " 0.81270833 0.813125   0.81354167 0.81270833 0.813125   0.81354167\n",
      " 0.81229167 0.81354167 0.81291667        nan        nan        nan\n",
      "        nan        nan        nan        nan        nan        nan\n",
      "        nan        nan        nan        nan        nan        nan\n",
      "        nan        nan        nan        nan        nan        nan\n",
      "        nan        nan        nan        nan        nan        nan\n",
      " 0.81104167 0.81166667 0.81291667 0.81333333 0.815      0.81333333\n",
      " 0.815625   0.81354167 0.81479167 0.81208333 0.8125     0.811875\n",
      " 0.81354167 0.81229167 0.8125     0.810625   0.81520833 0.81520833\n",
      " 0.81229167 0.810625   0.81291667 0.81229167 0.810625   0.81291667\n",
      " 0.81145833 0.81208333 0.81354167 0.81104167 0.81166667 0.81291667\n",
      " 0.81333333 0.815      0.81333333 0.815625   0.81354167 0.81479167\n",
      " 0.81208333 0.8125     0.811875   0.81354167 0.81229167 0.8125\n",
      " 0.810625   0.81520833 0.81520833 0.81229167 0.810625   0.81291667\n",
      " 0.81229167 0.810625   0.81291667 0.81145833 0.81208333 0.81354167]\n",
      "  warnings.warn(\n"
     ]
    },
    {
     "name": "stdout",
     "output_type": "stream",
     "text": [
      "Best parameters: {'criterion': 'gini', 'max_depth': 6, 'max_features': 'sqrt', 'min_samples_leaf': 1, 'min_samples_split': 5, 'n_estimators': 100}\n"
     ]
    }
   ],
   "source": [
    "from sklearn.model_selection import GridSearchCV\n",
    "\n",
    "# create grid with wide range of values\n",
    "param_grid = {\n",
    "    'n_estimators': [100, 200, 300],\n",
    "    'max_features': ['auto', 'sqrt', 'log2'],\n",
    "    'max_depth': [4, 6, 8, 10],\n",
    "    'criterion': ['gini', 'entropy'],\n",
    "    'min_samples_split': [2, 5, 10],\n",
    "    'min_samples_leaf': [1, 2, 4]\n",
    "}\n",
    "rf = RandomForestClassifier(random_state=42)\n",
    "\n",
    "#instaniate\n",
    "grid_search = GridSearchCV(estimator=rf, param_grid=param_grid, \n",
    "                           cv=3, n_jobs=-1, verbose=3, scoring='accuracy')\n",
    "\n",
    "#fit\n",
    "grid_search.fit(X_sample, y_sample)\n",
    "\n",
    "#best params\n",
    "best_params = grid_search.best_params_\n",
    "print(\"Best parameters:\", best_params)"
   ]
  },
  {
   "cell_type": "code",
   "execution_count": 46,
   "id": "1cfd1e88",
   "metadata": {},
   "outputs": [
    {
     "name": "stdout",
     "output_type": "stream",
     "text": [
      "Fitting 3 folds for each of 45 candidates, totalling 135 fits\n",
      "Best parameters: {'criterion': 'gini', 'max_depth': 6, 'max_features': 'sqrt', 'min_samples_leaf': 1, 'min_samples_split': 5, 'n_estimators': 100}\n"
     ]
    }
   ],
   "source": [
    "#refine the grid and repeat the process\n",
    "param_grid_refined = {\n",
    "    'n_estimators': [80, 90, 100, 110, 120], #expand around 100\n",
    "    'max_features': ['sqrt'],  #keep as is\n",
    "    'max_depth': [5, 6, 7],  # search around 6\n",
    "    'criterion': ['gini'],  # keep\n",
    "    'min_samples_split': [4, 5, 6],  #search around best\n",
    "    'min_samples_leaf': [1],  #keep as is\n",
    "}\n",
    "rf = RandomForestClassifier(random_state=42)\n",
    "\n",
    "#instaniate\n",
    "grid_search = GridSearchCV(estimator=rf, param_grid=param_grid_refined, \n",
    "                           cv=3, n_jobs=-1, verbose=3, scoring='accuracy')\n",
    "\n",
    "#fit\n",
    "grid_search.fit(X_sample, y_sample)\n",
    "\n",
    "#best params\n",
    "best_params = grid_search.best_params_\n",
    "print(\"Best parameters:\", best_params)"
   ]
  },
  {
   "cell_type": "code",
   "execution_count": 61,
   "id": "c72e9cb0",
   "metadata": {},
   "outputs": [
    {
     "name": "stdout",
     "output_type": "stream",
     "text": [
      "              precision    recall  f1-score   support\n",
      "\n",
      "           0       0.83      0.96      0.89      4673\n",
      "           1       0.68      0.33      0.44      1327\n",
      "\n",
      "    accuracy                           0.82      6000\n",
      "   macro avg       0.76      0.64      0.67      6000\n",
      "weighted avg       0.80      0.82      0.79      6000\n",
      "\n",
      "Optimized Random Forest Accuracy: 0.8175\n"
     ]
    }
   ],
   "source": [
    "# now to fit a model with best hyper params\n",
    "rf_default = RandomForestClassifier(random_state=42,\n",
    "                                    criterion='gini',\n",
    "                                    max_depth=6,\n",
    "                                    max_features='sqrt',\n",
    "                                    min_samples_leaf=1,\n",
    "                                    min_samples_split=5,\n",
    "                                    n_estimators=100\n",
    "                                   )\n",
    "\n",
    "#optimized hyperparams\n",
    "rf_default.fit(X_train_pca, y_train)\n",
    "y_pred_default = rf_default.predict(X_test_pca)\n",
    "print(classification_report(y_test, y_pred_default))\n",
    "print(\"Optimized Random Forest Accuracy:\", accuracy_score(y_test, y_pred_default))"
   ]
  },
  {
   "cell_type": "code",
   "execution_count": 49,
   "id": "bb310b1c",
   "metadata": {},
   "outputs": [],
   "source": [
    "# SMOTE to 'balance' training  dataset\n",
    "from imblearn.over_sampling import SMOTE\n",
    "smote = SMOTE(random_state=42)\n",
    "X_train_smote, y_train_smote = smote.fit_resample(X_train_pca, y_train)\n"
   ]
  },
  {
   "cell_type": "code",
   "execution_count": 53,
   "id": "29703f76",
   "metadata": {},
   "outputs": [
    {
     "data": {
      "text/plain": [
       "((37382,), (24000,))"
      ]
     },
     "execution_count": 53,
     "metadata": {},
     "output_type": "execute_result"
    }
   ],
   "source": [
    "y_train_smote.shape, y_train.shape"
   ]
  },
  {
   "cell_type": "code",
   "execution_count": 58,
   "id": "e65cb422",
   "metadata": {},
   "outputs": [
    {
     "data": {
      "image/png": "[encoded data removed]",
      "text/plain": [
       "<Figure size 640x480 with 1 Axes>"
      ]
     },
     "metadata": {},
     "output_type": "display_data"
    }
   ],
   "source": [
    "default_unbal = y_train[y_train == 1].sum()\n",
    "default_bal = y_train_smote[y_train_smote == 1].sum()\n",
    "\n",
    "classes = ['Unbalanced', 'Balanced']\n",
    "counts = [default_unbal, default_bal]\n",
    "\n",
    "#smote chart to show minority class increase in data\n",
    "plt.bar(classes, counts, color=['blue', 'orange'])\n",
    "\n",
    "plt.title('Class Distribution: Unbalanced vs Balanced')\n",
    "plt.xlabel('Dataset')\n",
    "plt.ylabel('Number of Defaults')\n",
    "plt.show()"
   ]
  },
  {
   "cell_type": "code",
   "execution_count": 60,
   "id": "3dbe013e",
   "metadata": {},
   "outputs": [
    {
     "name": "stdout",
     "output_type": "stream",
     "text": [
      "              precision    recall  f1-score   support\n",
      "\n",
      "           0       0.86      0.86      0.86      4673\n",
      "           1       0.52      0.52      0.52      1327\n",
      "\n",
      "    accuracy                           0.79      6000\n",
      "   macro avg       0.69      0.69      0.69      6000\n",
      "weighted avg       0.79      0.79      0.79      6000\n",
      "\n",
      "Default Random Forest SMOTE Accuracy: 0.7861666666666667\n"
     ]
    }
   ],
   "source": [
    "\n",
    "# default SMOTE\n",
    "rf_default = RandomForestClassifier(random_state=42)\n",
    "rf_default.fit(X_train_smote, y_train_smote)\n",
    "y_pred_default = rf_default.predict(X_test_pca)\n",
    "print(classification_report(y_test, y_pred_default))\n",
    "print(\"Default Random Forest SMOTE Accuracy:\", accuracy_score(y_test, y_pred_default))"
   ]
  },
  {
   "cell_type": "code",
   "execution_count": 66,
   "id": "02aae865",
   "metadata": {},
   "outputs": [],
   "source": [
    "X_sample_SMOTE, _, y_sample_SMOTE, _ = train_test_split( X_train_smote, y_train_smote, \\\n",
    "                                                        stratify=y_train_smote, test_size=0.85, random_state=42)"
   ]
  },
  {
   "cell_type": "code",
   "execution_count": 67,
   "id": "b8bb1145",
   "metadata": {},
   "outputs": [
    {
     "name": "stdout",
     "output_type": "stream",
     "text": [
      "Fitting 3 folds for each of 648 candidates, totalling 1944 fits\n"
     ]
    },
    {
     "name": "stderr",
     "output_type": "stream",
     "text": [
      "C:\\Users\\oconn\\anaconda3\\lib\\site-packages\\sklearn\\model_selection\\_validation.py:425: FitFailedWarning: \n",
      "648 fits failed out of a total of 1944.\n",
      "The score on these train-test partitions for these parameters will be set to nan.\n",
      "If these failures are not expected, you can try to debug them by setting error_score='raise'.\n",
      "\n",
      "Below are more details about the failures:\n",
      "--------------------------------------------------------------------------------\n",
      "327 fits failed with the following error:\n",
      "Traceback (most recent call last):\n",
      "  File \"C:\\Users\\oconn\\anaconda3\\lib\\site-packages\\sklearn\\model_selection\\_validation.py\", line 732, in _fit_and_score\n",
      "    estimator.fit(X_train, y_train, **fit_params)\n",
      "  File \"C:\\Users\\oconn\\anaconda3\\lib\\site-packages\\sklearn\\base.py\", line 1144, in wrapper\n",
      "    estimator._validate_params()\n",
      "  File \"C:\\Users\\oconn\\anaconda3\\lib\\site-packages\\sklearn\\base.py\", line 637, in _validate_params\n",
      "    validate_parameter_constraints(\n",
      "  File \"C:\\Users\\oconn\\anaconda3\\lib\\site-packages\\sklearn\\utils\\_param_validation.py\", line 95, in validate_parameter_constraints\n",
      "    raise InvalidParameterError(\n",
      "sklearn.utils._param_validation.InvalidParameterError: The 'max_features' parameter of RandomForestClassifier must be an int in the range [1, inf), a float in the range (0.0, 1.0], a str among {'log2', 'sqrt'} or None. Got 'auto' instead.\n",
      "\n",
      "--------------------------------------------------------------------------------\n",
      "321 fits failed with the following error:\n",
      "Traceback (most recent call last):\n",
      "  File \"C:\\Users\\oconn\\anaconda3\\lib\\site-packages\\sklearn\\model_selection\\_validation.py\", line 732, in _fit_and_score\n",
      "    estimator.fit(X_train, y_train, **fit_params)\n",
      "  File \"C:\\Users\\oconn\\anaconda3\\lib\\site-packages\\sklearn\\base.py\", line 1144, in wrapper\n",
      "    estimator._validate_params()\n",
      "  File \"C:\\Users\\oconn\\anaconda3\\lib\\site-packages\\sklearn\\base.py\", line 637, in _validate_params\n",
      "    validate_parameter_constraints(\n",
      "  File \"C:\\Users\\oconn\\anaconda3\\lib\\site-packages\\sklearn\\utils\\_param_validation.py\", line 95, in validate_parameter_constraints\n",
      "    raise InvalidParameterError(\n",
      "sklearn.utils._param_validation.InvalidParameterError: The 'max_features' parameter of RandomForestClassifier must be an int in the range [1, inf), a float in the range (0.0, 1.0], a str among {'sqrt', 'log2'} or None. Got 'auto' instead.\n",
      "\n",
      "  warnings.warn(some_fits_failed_message, FitFailedWarning)\n",
      "C:\\Users\\oconn\\anaconda3\\lib\\site-packages\\sklearn\\model_selection\\_search.py:976: UserWarning: One or more of the test scores are non-finite: [       nan        nan        nan        nan        nan        nan\n",
      "        nan        nan        nan        nan        nan        nan\n",
      "        nan        nan        nan        nan        nan        nan\n",
      "        nan        nan        nan        nan        nan        nan\n",
      "        nan        nan        nan 0.69966114 0.69609417 0.69662921\n",
      " 0.69912609 0.69591582 0.69698591 0.69859105 0.69520243 0.69591582\n",
      " 0.69787765 0.69520243 0.69645086 0.69983949 0.69627252 0.69662921\n",
      " 0.69859105 0.69627252 0.69573747 0.69698591 0.69609417 0.69662921\n",
      " 0.69698591 0.69609417 0.69662921 0.69662921 0.69645086 0.69680756\n",
      " 0.69966114 0.69609417 0.69662921 0.69912609 0.69591582 0.69698591\n",
      " 0.69859105 0.69520243 0.69591582 0.69787765 0.69520243 0.69645086\n",
      " 0.69983949 0.69627252 0.69662921 0.69859105 0.69627252 0.69573747\n",
      " 0.69698591 0.69609417 0.69662921 0.69698591 0.69609417 0.69662921\n",
      " 0.69662921 0.69645086 0.69680756        nan        nan        nan\n",
      "        nan        nan        nan        nan        nan        nan\n",
      "        nan        nan        nan        nan        nan        nan\n",
      "        nan        nan        nan        nan        nan        nan\n",
      "        nan        nan        nan        nan        nan        nan\n",
      " 0.70411985 0.70643838 0.70536829 0.7035848  0.70643838 0.70572499\n",
      " 0.70447655 0.69912609 0.70411985 0.70411985 0.70518994 0.70679508\n",
      " 0.70340646 0.70447655 0.70501159 0.70108793 0.70090958 0.70376315\n",
      " 0.70126627 0.70287141 0.7035848  0.70126627 0.70287141 0.7035848\n",
      " 0.70090958 0.70180132 0.70447655 0.70411985 0.70643838 0.70536829\n",
      " 0.7035848  0.70643838 0.70572499 0.70447655 0.69912609 0.70411985\n",
      " 0.70411985 0.70518994 0.70679508 0.70340646 0.70447655 0.70501159\n",
      " 0.70108793 0.70090958 0.70376315 0.70126627 0.70287141 0.7035848\n",
      " 0.70126627 0.70287141 0.7035848  0.70090958 0.70180132 0.70447655\n",
      "        nan        nan        nan        nan        nan        nan\n",
      "        nan        nan        nan        nan        nan        nan\n",
      "        nan        nan        nan        nan        nan        nan\n",
      "        nan        nan        nan        nan        nan        nan\n",
      "        nan        nan        nan 0.7046549  0.70679508 0.709827\n",
      " 0.70857856 0.71089709 0.71143214 0.71071874 0.709827   0.7094703\n",
      " 0.70750847 0.70929196 0.70750847 0.70857856 0.70804352 0.70786517\n",
      " 0.70572499 0.70786517 0.70804352 0.70964865 0.71036205 0.70964865\n",
      " 0.70964865 0.71036205 0.70964865 0.70840021 0.70733012 0.70554664\n",
      " 0.7046549  0.70679508 0.709827   0.70857856 0.71089709 0.71143214\n",
      " 0.71071874 0.709827   0.7094703  0.70750847 0.70929196 0.70750847\n",
      " 0.70857856 0.70804352 0.70786517 0.70572499 0.70786517 0.70804352\n",
      " 0.70964865 0.71036205 0.70964865 0.70964865 0.71036205 0.70964865\n",
      " 0.70840021 0.70733012 0.70554664        nan        nan        nan\n",
      "        nan        nan        nan        nan        nan        nan\n",
      "        nan        nan        nan        nan        nan        nan\n",
      "        nan        nan        nan        nan        nan        nan\n",
      "        nan        nan        nan        nan        nan        nan\n",
      " 0.71125379 0.71321562 0.71482076 0.71517746 0.71214553 0.71339397\n",
      " 0.71446406 0.71321562 0.71446406 0.71196718 0.71285893 0.71392902\n",
      " 0.71428571 0.71357232 0.71428571 0.71196718 0.709827   0.7101837\n",
      " 0.71392902 0.71196718 0.71125379 0.71392902 0.71196718 0.71125379\n",
      " 0.7094703  0.70893526 0.71000535 0.71125379 0.71321562 0.71482076\n",
      " 0.71517746 0.71214553 0.71339397 0.71446406 0.71321562 0.71446406\n",
      " 0.71196718 0.71285893 0.71392902 0.71428571 0.71357232 0.71428571\n",
      " 0.71196718 0.709827   0.7101837  0.71392902 0.71196718 0.71125379\n",
      " 0.71392902 0.71196718 0.71125379 0.7094703  0.70893526 0.71000535\n",
      "        nan        nan        nan        nan        nan        nan\n",
      "        nan        nan        nan        nan        nan        nan\n",
      "        nan        nan        nan        nan        nan        nan\n",
      "        nan        nan        nan        nan        nan        nan\n",
      "        nan        nan        nan 0.69734261 0.69484573 0.69627252\n",
      " 0.698056   0.69698591 0.69555912 0.69716426 0.69591582 0.69609417\n",
      " 0.69680756 0.69627252 0.69609417 0.69645086 0.69555912 0.69627252\n",
      " 0.69662921 0.69520243 0.69555912 0.69555912 0.69555912 0.69609417\n",
      " 0.69555912 0.69555912 0.69609417 0.69716426 0.69520243 0.69573747\n",
      " 0.69734261 0.69484573 0.69627252 0.698056   0.69698591 0.69555912\n",
      " 0.69716426 0.69591582 0.69609417 0.69680756 0.69627252 0.69609417\n",
      " 0.69645086 0.69555912 0.69627252 0.69662921 0.69520243 0.69555912\n",
      " 0.69555912 0.69555912 0.69609417 0.69555912 0.69555912 0.69609417\n",
      " 0.69716426 0.69520243 0.69573747        nan        nan        nan\n",
      "        nan        nan        nan        nan        nan        nan\n",
      "        nan        nan        nan        nan        nan        nan\n",
      "        nan        nan        nan        nan        nan        nan\n",
      "        nan        nan        nan        nan        nan        nan\n",
      " 0.70626003 0.70554664 0.70501159 0.70483324 0.70180132 0.70411985\n",
      " 0.70144462 0.70251471 0.70447655 0.70536829 0.70483324 0.70554664\n",
      " 0.70661673 0.70536829 0.70572499 0.70340646 0.70269306 0.7039415\n",
      " 0.70055288 0.7035848  0.70376315 0.70055288 0.7035848  0.70376315\n",
      " 0.70180132 0.70233637 0.70376315 0.70626003 0.70554664 0.70501159\n",
      " 0.70483324 0.70180132 0.70411985 0.70144462 0.70251471 0.70447655\n",
      " 0.70536829 0.70483324 0.70554664 0.70661673 0.70536829 0.70572499\n",
      " 0.70340646 0.70269306 0.7039415  0.70055288 0.7035848  0.70376315\n",
      " 0.70055288 0.7035848  0.70376315 0.70180132 0.70233637 0.70376315\n",
      "        nan        nan        nan        nan        nan        nan\n",
      "        nan        nan        nan        nan        nan        nan\n",
      "        nan        nan        nan        nan        nan        nan\n",
      "        nan        nan        nan        nan        nan        nan\n",
      "        nan        nan        nan 0.70804352 0.70875691 0.70840021\n",
      " 0.70715177 0.70697343 0.70786517 0.70679508 0.70911361 0.70733012\n",
      " 0.70697343 0.70786517 0.70643838 0.70768682 0.70840021 0.70661673\n",
      " 0.70750847 0.70608168 0.70733012 0.70483324 0.7046549  0.70518994\n",
      " 0.70483324 0.7046549  0.70518994 0.70750847 0.70679508 0.70679508\n",
      " 0.70804352 0.70875691 0.70840021 0.70715177 0.70697343 0.70786517\n",
      " 0.70679508 0.70911361 0.70733012 0.70697343 0.70786517 0.70643838\n",
      " 0.70768682 0.70840021 0.70661673 0.70750847 0.70608168 0.70733012\n",
      " 0.70483324 0.7046549  0.70518994 0.70483324 0.7046549  0.70518994\n",
      " 0.70750847 0.70679508 0.70679508        nan        nan        nan\n",
      "        nan        nan        nan        nan        nan        nan\n",
      "        nan        nan        nan        nan        nan        nan\n",
      "        nan        nan        nan        nan        nan        nan\n",
      "        nan        nan        nan        nan        nan        nan\n",
      " 0.71446406 0.71357232 0.71143214 0.71268058 0.71357232 0.71232388\n",
      " 0.71161049 0.71000535 0.70964865 0.71071874 0.7105404  0.7105404\n",
      " 0.71410737 0.71250223 0.71464241 0.70893526 0.71178884 0.71250223\n",
      " 0.70857856 0.71000535 0.71000535 0.70857856 0.71000535 0.71000535\n",
      " 0.70911361 0.71089709 0.71071874 0.71446406 0.71357232 0.71143214\n",
      " 0.71268058 0.71357232 0.71232388 0.71161049 0.71000535 0.70964865\n",
      " 0.71071874 0.7105404  0.7105404  0.71410737 0.71250223 0.71464241\n",
      " 0.70893526 0.71178884 0.71250223 0.70857856 0.71000535 0.71000535\n",
      " 0.70857856 0.71000535 0.71000535 0.70911361 0.71089709 0.71071874]\n",
      "  warnings.warn(\n"
     ]
    },
    {
     "name": "stdout",
     "output_type": "stream",
     "text": [
      "Best parameters: {'criterion': 'gini', 'max_depth': 10, 'max_features': 'sqrt', 'min_samples_leaf': 1, 'min_samples_split': 5, 'n_estimators': 100}\n"
     ]
    }
   ],
   "source": [
    "\n",
    "# create grid with wide range of values\n",
    "param_grid = {\n",
    "    'n_estimators': [100, 200, 300],\n",
    "    'max_features': ['auto', 'sqrt', 'log2'],\n",
    "    'max_depth': [4, 6, 8, 10],\n",
    "    'criterion': ['gini', 'entropy'],\n",
    "    'min_samples_split': [2, 5, 10],\n",
    "    'min_samples_leaf': [1, 2, 4]\n",
    "}\n",
    "rf = RandomForestClassifier(random_state=42)\n",
    "\n",
    "#instaniate\n",
    "grid_search = GridSearchCV(estimator=rf, param_grid=param_grid, \n",
    "                           cv=3, n_jobs=-1, verbose=3, scoring='accuracy')\n",
    "\n",
    "#fit\n",
    "grid_search.fit(X_sample_SMOTE, y_sample_SMOTE) #run on sampled SMOTE data\n",
    "\n",
    "#best params\n",
    "best_params = grid_search.best_params_\n",
    "print(\"Best parameters:\", best_params)"
   ]
  },
  {
   "cell_type": "code",
   "execution_count": 68,
   "id": "b52a1950",
   "metadata": {},
   "outputs": [
    {
     "name": "stdout",
     "output_type": "stream",
     "text": [
      "{'criterion': 'gini', 'max_depth': 10, 'max_features': 'sqrt', 'min_samples_leaf': 1, 'min_samples_split': 5, 'n_estimators': 100}\n"
     ]
    }
   ],
   "source": [
    "print(best_params)"
   ]
  },
  {
   "cell_type": "code",
   "execution_count": 69,
   "id": "538d207a",
   "metadata": {},
   "outputs": [
    {
     "name": "stdout",
     "output_type": "stream",
     "text": [
      "Fitting 3 folds for each of 60 candidates, totalling 180 fits\n",
      "Best parameters: {'criterion': 'gini', 'max_depth': 12, 'max_features': 'sqrt', 'min_samples_leaf': 1, 'min_samples_split': 4, 'n_estimators': 110}\n"
     ]
    }
   ],
   "source": [
    "#refine grid & repeat\n",
    "param_grid_refined = {\n",
    "    'n_estimators': [80, 90, 100, 110, 120], #expand around 100\n",
    "    'max_features': ['sqrt'],  #keep as is\n",
    "    'max_depth': [9,10,11,12],  # search around 10\n",
    "    'criterion': ['gini'],  # keep\n",
    "    'min_samples_split': [4, 5, 6],  #search around best\n",
    "    'min_samples_leaf': [1],  #keep as is\n",
    "}\n",
    "rf = RandomForestClassifier(random_state=42)\n",
    "\n",
    "#instaniate\n",
    "grid_search = GridSearchCV(estimator=rf, param_grid=param_grid_refined, \n",
    "                           cv=3, n_jobs=-1, verbose=3, scoring='accuracy')\n",
    "\n",
    "#fit\n",
    "grid_search.fit(X_sample_SMOTE, y_sample_SMOTE)\n",
    "\n",
    "#best params\n",
    "best_params = grid_search.best_params_\n",
    "print(\"Best parameters:\", best_params)"
   ]
  },
  {
   "cell_type": "code",
   "execution_count": 70,
   "id": "ddb66e6e",
   "metadata": {},
   "outputs": [
    {
     "name": "stdout",
     "output_type": "stream",
     "text": [
      "              precision    recall  f1-score   support\n",
      "\n",
      "           0       0.88      0.83      0.85      4673\n",
      "           1       0.49      0.59      0.53      1327\n",
      "\n",
      "    accuracy                           0.77      6000\n",
      "   macro avg       0.68      0.71      0.69      6000\n",
      "weighted avg       0.79      0.77      0.78      6000\n",
      "\n",
      "Optimized SMOTE Random Forest Accuracy: 0.7736666666666666\n"
     ]
    }
   ],
   "source": [
    "#smote best hyperparams\n",
    "rf_optimized_smote = RandomForestClassifier(random_state=42,\n",
    "                                    criterion='gini',\n",
    "                                    max_depth=12,\n",
    "                                    max_features='sqrt',\n",
    "                                    min_samples_leaf=1,\n",
    "                                    min_samples_split=4,\n",
    "                                    n_estimators=110\n",
    "                                   )\n",
    "\n",
    "#optimized hyperparams results\n",
    "rf_optimized_smote.fit(X_train_smote, y_train_smote)\n",
    "y_pred_default = rf_optimized_smote.predict(X_test_pca)\n",
    "print(classification_report(y_test, y_pred_default))\n",
    "print(\"Optimized SMOTE Random Forest Accuracy:\", accuracy_score(y_test, y_pred_default))"
   ]
  }
 ],
 "metadata": {
  "kernelspec": {
   "display_name": "Python 3 (ipykernel)",
   "language": "python",
   "name": "python3"
  },
  "language_info": {
   "codemirror_mode": {
    "name": "ipython",
    "version": 3
   },
   "file_extension": ".py",
   "mimetype": "text/x-python",
   "name": "python",
   "nbconvert_exporter": "python",
   "pygments_lexer": "ipython3",
   "version": "3.10.9"
  }
 },
 "nbformat": 4,
 "nbformat_minor": 5
}
