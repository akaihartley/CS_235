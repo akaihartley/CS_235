{
 "cells": [
  {
   "cell_type": "markdown",
   "metadata": {},
   "source": [
    "# CS235 - Default of Credit Card Client Classification\n",
    "\n",
    "Data source: https://archive.ics.uci.edu/dataset/350/default+of+credit+card+clients\n",
    "\n",
    "Notebook Authors: \n",
    "- Dan O'Connor\n",
    "- Shirin Afshar\n",
    "- Alexander Hartley"
   ]
  },
  {
   "cell_type": "code",
   "execution_count": 23,
   "metadata": {},
   "outputs": [],
   "source": [
    "# import required libraries\n",
    "import pandas as pd\n",
    "import numpy as np\n",
    "from sklearn.decomposition import PCA\n",
    "from sklearn.model_selection import train_test_split\n",
    "from sklearn.compose import ColumnTransformer\n",
    "from sklearn.preprocessing import StandardScaler, OneHotEncoder, OrdinalEncoder"
   ]
  },
  {
   "cell_type": "code",
   "execution_count": 24,
   "metadata": {},
   "outputs": [],
   "source": [
    "# load in data\n",
    "df = pd.read_csv('default of credit card clients.csv')"
   ]
  },
  {
   "cell_type": "code",
   "execution_count": 25,
   "metadata": {},
   "outputs": [],
   "source": [
    "df = pd.read_csv('default of credit card clients.csv')\n",
    "df = df.rename(columns={'PAY_0' : 'PAY_1', 'default payment next month' : 'DEFAULT_0'})\n",
    "\n",
    "target_col = 'DEFAULT_0'\n",
    "demographic_dis = ['SEX', 'EDUCATION', 'MARRIAGE']\n",
    "demographic_con = ['AGE']\n",
    "limit_cols = ['LIMIT_BAL']\n",
    "pay_delay_cols = ['PAY_1', 'PAY_2','PAY_3', 'PAY_4', 'PAY_5', 'PAY_6']\n",
    "bill_cols = ['BILL_AMT1', 'BILL_AMT2',  'BILL_AMT3', 'BILL_AMT4', 'BILL_AMT5', 'BILL_AMT6']\n",
    "payments_cols = ['PAY_AMT1', 'PAY_AMT2', 'PAY_AMT3', 'PAY_AMT4', 'PAY_AMT5', 'PAY_AMT6']\n",
    "\n",
    "numeric_features = []\n",
    "categorical_features = []\n",
    "ordinal_features = []\n"
   ]
  },
  {
   "cell_type": "code",
   "execution_count": 26,
   "metadata": {},
   "outputs": [],
   "source": [
    "\n",
    "df = df[df['MARRIAGE'] != 0]\n",
    "df['EDUCATION'] = df['EDUCATION'].replace([0, 4, 5, 6], 4)\n",
    "\n",
    "# replacing bill columns with binary columns\n",
    "bill_amt_exceed = []\n",
    "for col in bill_cols:\n",
    "    exceed_col = col + 'Exceed'\n",
    "    df = df[df[col] >= 0]\n",
    "    df[col + 'Exceed'] = df[col] > df['LIMIT_BAL']\n",
    "    df.drop(col, axis=1, inplace=True)\n",
    "    bill_amt_exceed.append(exceed_col)\n",
    "    \n",
    "# log transform age, limit, and payment columns\n",
    "df['AGE'] = np.log(df['AGE'])\n",
    "\n",
    "df['LIMIT_BAL'] = np.log(df['LIMIT_BAL'])\n",
    "\n",
    "for col in payments_cols:\n",
    "    df[col] = np.log(df[col] + 1)\n",
    "\n",
    "# setting max value as 6 for pay delay columns\n",
    "for col in pay_delay_cols:\n",
    "    df[col] = df[col].apply(lambda x: min(x, 6))"
   ]
  },
  {
   "cell_type": "code",
   "execution_count": 27,
   "metadata": {},
   "outputs": [
    {
     "data": {
      "text/plain": [
       "DEFAULT_0\n",
       "0    0.774673\n",
       "1    0.225327\n",
       "Name: proportion, dtype: float64"
      ]
     },
     "execution_count": 27,
     "metadata": {},
     "output_type": "execute_result"
    }
   ],
   "source": [
    "df[target_col].value_counts(normalize=True)"
   ]
  },
  {
   "cell_type": "code",
   "execution_count": 28,
   "metadata": {},
   "outputs": [
    {
     "data": {
      "text/plain": [
       "((22413, 23), (5604, 23), (22413,), (5604,))"
      ]
     },
     "execution_count": 28,
     "metadata": {},
     "output_type": "execute_result"
    }
   ],
   "source": [
    "y = df['DEFAULT_0']\n",
    "X = df.drop(columns=['DEFAULT_0', 'ID'])\n",
    "\n",
    "X_train, X_test, y_train, y_test = train_test_split(X, y, test_size=0.2, stratify=y, random_state=1)\n",
    "X_train.shape, X_test.shape, y_train.shape, y_test.shape"
   ]
  },
  {
   "cell_type": "code",
   "execution_count": 29,
   "metadata": {},
   "outputs": [],
   "source": [
    "numeric_features = payments_cols + demographic_con + limit_cols\n",
    "categorical_features = demographic_dis\n",
    "ordinal_features = pay_delay_cols\n",
    "\n",
    "\n",
    "preprocessor = ColumnTransformer(\n",
    "    transformers=[\n",
    "        ('num', StandardScaler(), numeric_features),\n",
    "        ('cat', OneHotEncoder(), categorical_features),\n",
    "        # in case a value in train is not in test\n",
    "        ('ord', OrdinalEncoder(handle_unknown='use_encoded_value', unknown_value=-1), ordinal_features)\n",
    "            ],\n",
    "    remainder='passthrough' \n",
    ")"
   ]
  },
  {
   "cell_type": "code",
   "execution_count": 30,
   "metadata": {},
   "outputs": [],
   "source": [
    "X_train_scaled = preprocessor.fit_transform(X_train)\n",
    "X_test_scaled = preprocessor.transform(X_test)"
   ]
  },
  {
   "cell_type": "code",
   "execution_count": 31,
   "metadata": {},
   "outputs": [
    {
     "data": {
      "text/plain": [
       "((22413, 29), (22413, 15))"
      ]
     },
     "execution_count": 31,
     "metadata": {},
     "output_type": "execute_result"
    }
   ],
   "source": [
    "pca = PCA(n_components=0.95)  #keep 95% variance\n",
    "pca.fit(X_train_scaled)  # fit on train\n",
    "\n",
    "#tansform both training and test sets\n",
    "X_train_pca = pca.transform(X_train_scaled)\n",
    "X_test_pca = pca.transform(X_test_scaled)\n",
    "\n",
    "X_train_scaled.shape , X_train_pca.shape"
   ]
  },
  {
   "cell_type": "code",
   "execution_count": 32,
   "metadata": {},
   "outputs": [],
   "source": [
    "feature_names_pca = [f'PCA{i}' for i in range(1, 16)]\n",
    "X_train_pca_df = pd.DataFrame(X_train_pca, columns=feature_names_pca)\n",
    "X_test_pca_df = pd.DataFrame(X_test_pca, columns=feature_names_pca)\n",
    "\n",
    "X_train_pca_df.to_csv('X_train_pca.csv', index=False)\n",
    "X_test_pca_df.to_csv('X_test_pca.csv', index=False)\n",
    "y_train.to_csv('y_train.csv', index=False)\n",
    "y_test.to_csv('y_test.csv', index=False)"
   ]
  }
 ],
 "metadata": {
  "kernelspec": {
   "display_name": "Python 3",
   "language": "python",
   "name": "python3"
  },
  "language_info": {
   "codemirror_mode": {
    "name": "ipython",
    "version": 3
   },
   "file_extension": ".py",
   "mimetype": "text/x-python",
   "name": "python",
   "nbconvert_exporter": "python",
   "pygments_lexer": "ipython3",
   "version": "3.11.6"
  }
 },
 "nbformat": 4,
 "nbformat_minor": 2
}
